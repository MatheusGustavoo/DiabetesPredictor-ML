{
 "cells": [
  {
   "cell_type": "code",
   "execution_count": 1,
   "metadata": {},
   "outputs": [
    {
     "name": "stderr",
     "output_type": "stream",
     "text": [
      "c:\\Users\\mathe\\.virtualenvs\\DiabetesPredictor-ML-MvRa5JGZ\\Lib\\site-packages\\tqdm\\auto.py:21: TqdmWarning: IProgress not found. Please update jupyter and ipywidgets. See https://ipywidgets.readthedocs.io/en/stable/user_install.html\n",
      "  from .autonotebook import tqdm as notebook_tqdm\n"
     ]
    }
   ],
   "source": [
    "import gradio as gr\n",
    "import joblib\n",
    "import pandas as pd"
   ]
  },
  {
   "cell_type": "code",
   "execution_count": 2,
   "metadata": {},
   "outputs": [],
   "source": [
    "modelo = joblib.load('./modelo_diabetes.pkl')"
   ]
  },
  {
   "cell_type": "code",
   "execution_count": 31,
   "metadata": {},
   "outputs": [],
   "source": [
    "def predict(gravidez, pressao, pele, insulina, imc, idade):\n",
    "    predicao_individual = {\n",
    "        \"gravidez\": gravidez,\n",
    "        \"pressao\": pressao,\n",
    "        \"pele\": pele,\n",
    "        \"insulina\": insulina,\n",
    "        \"IMC\": imc,\n",
    "        \"idade\": idade\n",
    "    }\n",
    "    predict_df = pd.DataFrame(predicao_individual, index=[1])\t\n",
    "    diabetes = modelo.predict(predict_df)\n",
    "    \n",
    "    return diabetes[0]"
   ]
  },
  {
   "cell_type": "code",
   "execution_count": 32,
   "metadata": {},
   "outputs": [
    {
     "data": {
      "text/plain": [
       "np.float64(134.95671289876046)"
      ]
     },
     "execution_count": 32,
     "metadata": {},
     "output_type": "execute_result"
    }
   ],
   "source": [
    "demo = gr.Interface(\n",
    "    fn=predict,\n",
    "    inputs=[\n",
    "        gr.Slider(0, 17, step=1),\n",
    "        gr.Slider(40, 140, step=1),\n",
    "        gr.Slider(0, 100, step=1),\n",
    "        gr.Slider(3, 600, step=1),\n",
    "        gr.Slider(20, 40, step=1),\n",
    "        gr.Slider(21, 90, step=1)\n",
    "    ],\n",
    "    outputs=gr.Number()\n",
    ")\n",
    "predicao_individual = {\n",
    "        \"gravidez\": 2,\n",
    "        \"pressao\": 100,\n",
    "        \"pele\": 120,\n",
    "        \"insulina\": 100,\n",
    "        \"IMC\": 23,\n",
    "        \"idade\": 90\n",
    "    }\n",
    "predict_df = pd.DataFrame(predicao_individual, index=[1])\n",
    "modelo.predict(predict_df)[0]"
   ]
  },
  {
   "cell_type": "code",
   "execution_count": 34,
   "metadata": {},
   "outputs": [
    {
     "name": "stdout",
     "output_type": "stream",
     "text": [
      "Rerunning server... use `close()` to stop if you need to change `launch()` parameters.\n",
      "----\n",
      "Running on public URL: https://32334ee45fb140aae8.gradio.live\n",
      "\n",
      "This share link expires in 72 hours. For free permanent hosting and GPU upgrades, run `gradio deploy` from Terminal to deploy to Spaces (https://huggingface.co/spaces)\n"
     ]
    },
    {
     "data": {
      "text/html": [
       "<div><iframe src=\"https://32334ee45fb140aae8.gradio.live\" width=\"100%\" height=\"500\" allow=\"autoplay; camera; microphone; clipboard-read; clipboard-write;\" frameborder=\"0\" allowfullscreen></iframe></div>"
      ],
      "text/plain": [
       "<IPython.core.display.HTML object>"
      ]
     },
     "metadata": {},
     "output_type": "display_data"
    },
    {
     "data": {
      "text/plain": []
     },
     "execution_count": 34,
     "metadata": {},
     "output_type": "execute_result"
    }
   ],
   "source": [
    "demo.launch(share=True)"
   ]
  },
  {
   "cell_type": "code",
   "execution_count": null,
   "metadata": {},
   "outputs": [],
   "source": []
  }
 ],
 "metadata": {
  "kernelspec": {
   "display_name": "DiabetesPredictor-ML-MvRa5JGZ",
   "language": "python",
   "name": "python3"
  },
  "language_info": {
   "codemirror_mode": {
    "name": "ipython",
    "version": 3
   },
   "file_extension": ".py",
   "mimetype": "text/x-python",
   "name": "python",
   "nbconvert_exporter": "python",
   "pygments_lexer": "ipython3",
   "version": "3.12.4"
  }
 },
 "nbformat": 4,
 "nbformat_minor": 2
}
